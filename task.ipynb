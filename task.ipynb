{
 "cells": [
  {
   "cell_type": "markdown",
   "metadata": {
    "collapsed": true
   },
   "source": [
    "## The tools that I used in this process:\n",
    "I used Python(version 2.7), with some data-science related packages like pandas, NumPy and scikit-learn. I simply installed a specific distribution of Python called Anaconda that already bundles those and other most useful libraries for data science."
   ]
  },
  {
   "cell_type": "code",
   "execution_count": 1,
   "metadata": {
    "collapsed": true
   },
   "outputs": [],
   "source": [
    "import os\n",
    "import pandas as pd\n",
    "import numpy as np\n",
    "from sklearn.cross_validation import train_test_split\n",
    "from sklearn.ensemble import RandomForestClassifier\n",
    "from sklearn.cross_validation import cross_val_score"
   ]
  },
  {
   "cell_type": "code",
   "execution_count": 25,
   "metadata": {
    "collapsed": false
   },
   "outputs": [],
   "source": [
    "import matplotlib.pyplot as plt\n",
    "import matplotlib\n",
    "matplotlib.style.use('ggplot')\n",
    "%matplotlib inline"
   ]
  },
  {
   "cell_type": "markdown",
   "metadata": {},
   "source": [
    "#### Reding *data.csv* with pandas:"
   ]
  },
  {
   "cell_type": "code",
   "execution_count": 2,
   "metadata": {
    "collapsed": true
   },
   "outputs": [],
   "source": [
    "data = pd.read_csv('data.csv',index_col=0)"
   ]
  },
  {
   "cell_type": "code",
   "execution_count": 3,
   "metadata": {
    "collapsed": false
   },
   "outputs": [
    {
     "data": {
      "text/html": [
       "<div>\n",
       "<table border=\"1\" class=\"dataframe\">\n",
       "  <thead>\n",
       "    <tr style=\"text-align: right;\">\n",
       "      <th></th>\n",
       "      <th>feature1</th>\n",
       "      <th>feature2</th>\n",
       "      <th>feature3</th>\n",
       "      <th>feature4</th>\n",
       "      <th>feature5</th>\n",
       "      <th>response</th>\n",
       "    </tr>\n",
       "    <tr>\n",
       "      <th>feature0</th>\n",
       "      <th></th>\n",
       "      <th></th>\n",
       "      <th></th>\n",
       "      <th></th>\n",
       "      <th></th>\n",
       "      <th></th>\n",
       "    </tr>\n",
       "  </thead>\n",
       "  <tbody>\n",
       "    <tr>\n",
       "      <th>0</th>\n",
       "      <td>79.238912</td>\n",
       "      <td>142.521180</td>\n",
       "      <td>83.203680</td>\n",
       "      <td>37.251610</td>\n",
       "      <td>-10.135911</td>\n",
       "      <td>0</td>\n",
       "    </tr>\n",
       "    <tr>\n",
       "      <th>1</th>\n",
       "      <td>57.399469</td>\n",
       "      <td>74.782256</td>\n",
       "      <td>12.070260</td>\n",
       "      <td>34.322600</td>\n",
       "      <td>55.482167</td>\n",
       "      <td>1</td>\n",
       "    </tr>\n",
       "    <tr>\n",
       "      <th>2</th>\n",
       "      <td>33.516311</td>\n",
       "      <td>76.885951</td>\n",
       "      <td>33.253356</td>\n",
       "      <td>48.988555</td>\n",
       "      <td>69.364048</td>\n",
       "      <td>2</td>\n",
       "    </tr>\n",
       "    <tr>\n",
       "      <th>3</th>\n",
       "      <td>32.935693</td>\n",
       "      <td>86.202320</td>\n",
       "      <td>48.548763</td>\n",
       "      <td>42.298201</td>\n",
       "      <td>34.603077</td>\n",
       "      <td>2</td>\n",
       "    </tr>\n",
       "    <tr>\n",
       "      <th>4</th>\n",
       "      <td>75.350393</td>\n",
       "      <td>138.191571</td>\n",
       "      <td>75.757699</td>\n",
       "      <td>30.216984</td>\n",
       "      <td>-9.227141</td>\n",
       "      <td>0</td>\n",
       "    </tr>\n",
       "  </tbody>\n",
       "</table>\n",
       "</div>"
      ],
      "text/plain": [
       "           feature1    feature2   feature3   feature4   feature5  response\n",
       "feature0                                                                  \n",
       "0         79.238912  142.521180  83.203680  37.251610 -10.135911         0\n",
       "1         57.399469   74.782256  12.070260  34.322600  55.482167         1\n",
       "2         33.516311   76.885951  33.253356  48.988555  69.364048         2\n",
       "3         32.935693   86.202320  48.548763  42.298201  34.603077         2\n",
       "4         75.350393  138.191571  75.757699  30.216984  -9.227141         0"
      ]
     },
     "execution_count": 3,
     "metadata": {},
     "output_type": "execute_result"
    }
   ],
   "source": [
    "data.head()"
   ]
  },
  {
   "cell_type": "markdown",
   "metadata": {},
   "source": [
    "Let's have a look at some simple statistics of the **data**:"
   ]
  },
  {
   "cell_type": "code",
   "execution_count": 31,
   "metadata": {
    "collapsed": false
   },
   "outputs": [
    {
     "data": {
      "text/html": [
       "<div>\n",
       "<table border=\"1\" class=\"dataframe\">\n",
       "  <thead>\n",
       "    <tr style=\"text-align: right;\">\n",
       "      <th></th>\n",
       "      <th>feature1</th>\n",
       "      <th>feature2</th>\n",
       "      <th>feature3</th>\n",
       "      <th>feature4</th>\n",
       "      <th>feature5</th>\n",
       "      <th>response</th>\n",
       "    </tr>\n",
       "  </thead>\n",
       "  <tbody>\n",
       "    <tr>\n",
       "      <th>count</th>\n",
       "      <td>101010.000000</td>\n",
       "      <td>101010.000000</td>\n",
       "      <td>101010.000000</td>\n",
       "      <td>101010.000000</td>\n",
       "      <td>101010.000000</td>\n",
       "      <td>101010.000000</td>\n",
       "    </tr>\n",
       "    <tr>\n",
       "      <th>mean</th>\n",
       "      <td>55.260527</td>\n",
       "      <td>98.095357</td>\n",
       "      <td>156.296064</td>\n",
       "      <td>38.419451</td>\n",
       "      <td>17.517145</td>\n",
       "      <td>1.000000</td>\n",
       "    </tr>\n",
       "    <tr>\n",
       "      <th>std</th>\n",
       "      <td>315.326145</td>\n",
       "      <td>319.631928</td>\n",
       "      <td>31835.520972</td>\n",
       "      <td>36.054187</td>\n",
       "      <td>318.906931</td>\n",
       "      <td>0.816501</td>\n",
       "    </tr>\n",
       "    <tr>\n",
       "      <th>min</th>\n",
       "      <td>0.016221</td>\n",
       "      <td>14.914621</td>\n",
       "      <td>-32.369763</td>\n",
       "      <td>-21.224100</td>\n",
       "      <td>-62.965050</td>\n",
       "      <td>0.000000</td>\n",
       "    </tr>\n",
       "    <tr>\n",
       "      <th>25%</th>\n",
       "      <td>36.221386</td>\n",
       "      <td>68.220958</td>\n",
       "      <td>18.506533</td>\n",
       "      <td>25.065156</td>\n",
       "      <td>-7.484190</td>\n",
       "      <td>0.000000</td>\n",
       "    </tr>\n",
       "    <tr>\n",
       "      <th>50%</th>\n",
       "      <td>50.517651</td>\n",
       "      <td>83.271721</td>\n",
       "      <td>62.100800</td>\n",
       "      <td>36.333816</td>\n",
       "      <td>20.837380</td>\n",
       "      <td>1.000000</td>\n",
       "    </tr>\n",
       "    <tr>\n",
       "      <th>75%</th>\n",
       "      <td>73.552712</td>\n",
       "      <td>137.111876</td>\n",
       "      <td>77.102605</td>\n",
       "      <td>51.228244</td>\n",
       "      <td>38.001835</td>\n",
       "      <td>2.000000</td>\n",
       "    </tr>\n",
       "    <tr>\n",
       "      <th>max</th>\n",
       "      <td>99999.000000</td>\n",
       "      <td>101010.000000</td>\n",
       "      <td>10111000.000000</td>\n",
       "      <td>9999.000000</td>\n",
       "      <td>101010.000000</td>\n",
       "      <td>2.000000</td>\n",
       "    </tr>\n",
       "  </tbody>\n",
       "</table>\n",
       "</div>"
      ],
      "text/plain": [
       "            feature1       feature2         feature3       feature4  \\\n",
       "count  101010.000000  101010.000000    101010.000000  101010.000000   \n",
       "mean       55.260527      98.095357       156.296064      38.419451   \n",
       "std       315.326145     319.631928     31835.520972      36.054187   \n",
       "min         0.016221      14.914621       -32.369763     -21.224100   \n",
       "25%        36.221386      68.220958        18.506533      25.065156   \n",
       "50%        50.517651      83.271721        62.100800      36.333816   \n",
       "75%        73.552712     137.111876        77.102605      51.228244   \n",
       "max     99999.000000  101010.000000  10111000.000000    9999.000000   \n",
       "\n",
       "            feature5       response  \n",
       "count  101010.000000  101010.000000  \n",
       "mean       17.517145       1.000000  \n",
       "std       318.906931       0.816501  \n",
       "min       -62.965050       0.000000  \n",
       "25%        -7.484190       0.000000  \n",
       "50%        20.837380       1.000000  \n",
       "75%        38.001835       2.000000  \n",
       "max    101010.000000       2.000000  "
      ]
     },
     "execution_count": 31,
     "metadata": {},
     "output_type": "execute_result"
    }
   ],
   "source": [
    "data.describe()"
   ]
  },
  {
   "cell_type": "markdown",
   "metadata": {},
   "source": [
    "**max** values of the features seem very big comparing to **mean**, **25**, **50** and **75** percentiles. Investigating the the histogram of the data can help us to spot if there are any outliers:"
   ]
  },
  {
   "cell_type": "code",
   "execution_count": 28,
   "metadata": {
    "collapsed": false
   },
   "outputs": [
    {
     "data": {
      "image/png": "[encoded data removed]",
      "text/plain": [
       "<matplotlib.figure.Figure at 0x12a1acb10>"
      ]
     },
     "metadata": {},
     "output_type": "display_data"
    }
   ],
   "source": [
    "data.hist(figsize=(10,10));"
   ]
  },
  {
   "cell_type": "markdown",
   "metadata": {},
   "source": [
    "Looks like there are some **extreme outliers** in all the features"
   ]
  },
  {
   "cell_type": "markdown",
   "metadata": {},
   "source": [
    "### Selecting *features* and *the response*:"
   ]
  },
  {
   "cell_type": "code",
   "execution_count": 30,
   "metadata": {
    "collapsed": true
   },
   "outputs": [],
   "source": [
    "features = [u'feature1', u'feature2', u'feature3', u'feature4', u'feature5']\n",
    "X = data[features]\n",
    "y = data['response']"
   ]
  },
  {
   "cell_type": "code",
   "execution_count": 7,
   "metadata": {
    "collapsed": true
   },
   "outputs": [],
   "source": [
    "def factor_scatter_matrix(df, factor, palette=None):\n",
    "    '''Create a scatter matrix of the variables in df, with differently colored\n",
    "    points depending on the value of df[factor].\n",
    "    inputs:\n",
    "        df: pandas.DataFrame containing the columns to be plotted, as well \n",
    "            as factor.\n",
    "        factor: string or pandas.Series. The column indicating which group \n",
    "            each row belongs to.\n",
    "        palette: A list of hex codes, at least as long as the number of groups.\n",
    "            If omitted, a predefined palette will be used, but it only includes\n",
    "            9 groups.\n",
    "    '''\n",
    "    import matplotlib.colors\n",
    "    import numpy as np\n",
    "    from pandas.tools.plotting import scatter_matrix\n",
    "    from scipy.stats import gaussian_kde\n",
    "\n",
    "    if isinstance(factor, basestring):\n",
    "        factor_name = factor #save off the name\n",
    "        factor = df[factor] #extract column\n",
    "        df = df.drop(factor_name,axis=1) # remove from df, so it \n",
    "        # doesn't get a row and col in the plot.\n",
    "\n",
    "    classes = list(set(factor))\n",
    "\n",
    "    if palette is None:\n",
    "        palette = ['#e41a1c', '#377eb8', '#4eae4b', \n",
    "                   '#994fa1', '#ff8101', '#fdfc33', \n",
    "                   '#a8572c', '#f482be', '#999999']\n",
    "\n",
    "    color_map = dict(zip(classes,palette))\n",
    "\n",
    "    if len(classes) > len(palette):\n",
    "        raise ValueError('''Too many groups for the number of colors provided.\n",
    "We only have {} colors in the palette, but you have {}\n",
    "groups.'''.format(len(palette), len(classes)))\n",
    "\n",
    "    colors = factor.apply(lambda group: color_map[group])\n",
    "    axarr = scatter_matrix(df,figsize=(10,10),marker='o',c=colors,diagonal=None)\n",
    "\n",
    "\n",
    "    for rc in xrange(len(df.columns)):\n",
    "        for group in classes:\n",
    "            y = df[factor == group].icol(rc).values\n",
    "            gkde = gaussian_kde(y)\n",
    "            ind = np.linspace(y.min(), y.max(), 1000)\n",
    "            axarr[rc][rc].plot(ind, gkde.evaluate(ind),c=color_map[group])\n",
    "\n",
    "    return axarr, color_map"
   ]
  },
  {
   "cell_type": "code",
   "execution_count": 8,
   "metadata": {
    "collapsed": false
   },
   "outputs": [
    {
     "name": "stderr",
     "output_type": "stream",
     "text": [
      "/Users/user/anaconda2/lib/python2.7/site-packages/ipykernel/__main__.py:44: FutureWarning: icol(i) is deprecated. Please use .iloc[:,i]\n"
     ]
    }
   ],
   "source": [
    "axarr, color_map = factor_scatter_matrix(X[1:10000],y[1:10000]);"
   ]
  },
  {
   "cell_type": "code",
   "execution_count": 9,
   "metadata": {
    "collapsed": false
   },
   "outputs": [],
   "source": [
    "data.boxplot(by='response');"
   ]
  },
  {
   "cell_type": "code",
   "execution_count": 10,
   "metadata": {
    "collapsed": true
   },
   "outputs": [],
   "source": [
    "data_test = data[data.feature1<1000]\n",
    "data_test = data_test[data_test.feature2<1000]\n",
    "data_test = data_test[data_test.feature3<1000]\n",
    "data_test = data_test[data_test.feature4<1000]\n",
    "data_test = data_test[data_test.feature5<1000]"
   ]
  },
  {
   "cell_type": "code",
   "execution_count": 11,
   "metadata": {
    "collapsed": false
   },
   "outputs": [
    {
     "data": {
      "text/html": [
       "<div>\n",
       "<table border=\"1\" class=\"dataframe\">\n",
       "  <thead>\n",
       "    <tr style=\"text-align: right;\">\n",
       "      <th></th>\n",
       "      <th>feature1</th>\n",
       "      <th>feature2</th>\n",
       "      <th>feature3</th>\n",
       "      <th>feature4</th>\n",
       "      <th>feature5</th>\n",
       "      <th>response</th>\n",
       "    </tr>\n",
       "  </thead>\n",
       "  <tbody>\n",
       "    <tr>\n",
       "      <th>count</th>\n",
       "      <td>101003.000000</td>\n",
       "      <td>101003.000000</td>\n",
       "      <td>101003.000000</td>\n",
       "      <td>101003.000000</td>\n",
       "      <td>101003.000000</td>\n",
       "      <td>101003.000000</td>\n",
       "    </tr>\n",
       "    <tr>\n",
       "      <th>mean</th>\n",
       "      <td>54.271273</td>\n",
       "      <td>97.095817</td>\n",
       "      <td>51.598118</td>\n",
       "      <td>38.320458</td>\n",
       "      <td>16.517908</td>\n",
       "      <td>1.000010</td>\n",
       "    </tr>\n",
       "    <tr>\n",
       "      <th>std</th>\n",
       "      <td>23.235613</td>\n",
       "      <td>36.724728</td>\n",
       "      <td>32.225078</td>\n",
       "      <td>17.823604</td>\n",
       "      <td>26.918931</td>\n",
       "      <td>0.816486</td>\n",
       "    </tr>\n",
       "    <tr>\n",
       "      <th>min</th>\n",
       "      <td>0.016221</td>\n",
       "      <td>14.914621</td>\n",
       "      <td>-32.369763</td>\n",
       "      <td>-21.224100</td>\n",
       "      <td>-62.965050</td>\n",
       "      <td>0.000000</td>\n",
       "    </tr>\n",
       "    <tr>\n",
       "      <th>25%</th>\n",
       "      <td>36.222403</td>\n",
       "      <td>68.218940</td>\n",
       "      <td>18.504928</td>\n",
       "      <td>25.064747</td>\n",
       "      <td>-7.483637</td>\n",
       "      <td>0.000000</td>\n",
       "    </tr>\n",
       "    <tr>\n",
       "      <th>50%</th>\n",
       "      <td>50.517238</td>\n",
       "      <td>83.271411</td>\n",
       "      <td>62.098792</td>\n",
       "      <td>36.333380</td>\n",
       "      <td>20.837865</td>\n",
       "      <td>1.000000</td>\n",
       "    </tr>\n",
       "    <tr>\n",
       "      <th>75%</th>\n",
       "      <td>73.552655</td>\n",
       "      <td>137.111422</td>\n",
       "      <td>77.100748</td>\n",
       "      <td>51.227015</td>\n",
       "      <td>38.001464</td>\n",
       "      <td>2.000000</td>\n",
       "    </tr>\n",
       "    <tr>\n",
       "      <th>max</th>\n",
       "      <td>135.055901</td>\n",
       "      <td>193.999421</td>\n",
       "      <td>132.637529</td>\n",
       "      <td>104.838178</td>\n",
       "      <td>91.947545</td>\n",
       "      <td>2.000000</td>\n",
       "    </tr>\n",
       "  </tbody>\n",
       "</table>\n",
       "</div>"
      ],
      "text/plain": [
       "            feature1       feature2       feature3       feature4  \\\n",
       "count  101003.000000  101003.000000  101003.000000  101003.000000   \n",
       "mean       54.271273      97.095817      51.598118      38.320458   \n",
       "std        23.235613      36.724728      32.225078      17.823604   \n",
       "min         0.016221      14.914621     -32.369763     -21.224100   \n",
       "25%        36.222403      68.218940      18.504928      25.064747   \n",
       "50%        50.517238      83.271411      62.098792      36.333380   \n",
       "75%        73.552655     137.111422      77.100748      51.227015   \n",
       "max       135.055901     193.999421     132.637529     104.838178   \n",
       "\n",
       "            feature5       response  \n",
       "count  101003.000000  101003.000000  \n",
       "mean       16.517908       1.000010  \n",
       "std        26.918931       0.816486  \n",
       "min       -62.965050       0.000000  \n",
       "25%        -7.483637       0.000000  \n",
       "50%        20.837865       1.000000  \n",
       "75%        38.001464       2.000000  \n",
       "max        91.947545       2.000000  "
      ]
     },
     "execution_count": 11,
     "metadata": {},
     "output_type": "execute_result"
    }
   ],
   "source": [
    "----data_test.describe()"
   ]
  },
  {
   "cell_type": "code",
   "execution_count": 12,
   "metadata": {
    "collapsed": false
   },
   "outputs": [
    {
     "data": {
      "text/plain": [
       "array([[<matplotlib.axes._subplots.AxesSubplot object at 0x114ed9950>,\n",
       "        <matplotlib.axes._subplots.AxesSubplot object at 0x11eb9b750>],\n",
       "       [<matplotlib.axes._subplots.AxesSubplot object at 0x11ed6f450>,\n",
       "        <matplotlib.axes._subplots.AxesSubplot object at 0x11ee0ed10>],\n",
       "       [<matplotlib.axes._subplots.AxesSubplot object at 0x1135e2e90>,\n",
       "        <matplotlib.axes._subplots.AxesSubplot object at 0x115142450>]], dtype=object)"
      ]
     },
     "execution_count": 12,
     "metadata": {},
     "output_type": "execute_result"
    }
   ],
   "source": [
    "data_test.boxplot(by='response')"
   ]
  },
  {
   "cell_type": "code",
   "execution_count": 13,
   "metadata": {
    "collapsed": false
   },
   "outputs": [
    {
     "name": "stdout",
     "output_type": "stream",
     "text": [
      "50.5176508066\n"
     ]
    }
   ],
   "source": [
    "print np.median(data['feature1'])"
   ]
  },
  {
   "cell_type": "code",
   "execution_count": 14,
   "metadata": {
    "collapsed": false
   },
   "outputs": [],
   "source": [
    "feat = data.columns[:-1]"
   ]
  },
  {
   "cell_type": "markdown",
   "metadata": {
    "collapsed": false
   },
   "source": [
    "for feat.tolist()dddd"
   ]
  },
  {
   "cell_type": "code",
   "execution_count": 15,
   "metadata": {
    "collapsed": false
   },
   "outputs": [],
   "source": [
    "data_test.hist(figsize=(10,10));"
   ]
  },
  {
   "cell_type": "code",
   "execution_count": null,
   "metadata": {
    "collapsed": false
   },
   "outputs": [],
   "source": []
  },
  {
   "cell_type": "markdown",
   "metadata": {},
   "source": [
    "as we seee...."
   ]
  },
  {
   "cell_type": "code",
   "execution_count": 16,
   "metadata": {
    "collapsed": false
   },
   "outputs": [
    {
     "name": "stderr",
     "output_type": "stream",
     "text": [
      "/Users/user/anaconda2/lib/python2.7/site-packages/ipykernel/__main__.py:44: FutureWarning: icol(i) is deprecated. Please use .iloc[:,i]\n"
     ]
    }
   ],
   "source": [
    "y_test = data_test['response']\n",
    "X_test = data_test[[0,1,2,3,4]]\n",
    "axarr, color_map = factor_scatter_matrix(X_test,y_test);"
   ]
  },
  {
   "cell_type": "code",
   "execution_count": 17,
   "metadata": {
    "collapsed": false
   },
   "outputs": [],
   "source": [
    "rf_model = RandomForestClassifier(n_estimators=1000, # Number of trees\n",
    "                                  max_features=5,    # Num features considered\n",
    "                                  oob_score=True)"
   ]
  },
  {
   "cell_type": "code",
   "execution_count": 18,
   "metadata": {
    "collapsed": false
   },
   "outputs": [
    {
     "data": {
      "text/plain": [
       "0.99777249777249766"
      ]
     },
     "execution_count": 18,
     "metadata": {},
     "output_type": "execute_result"
    }
   ],
   "source": [
    "clf = RandomForestClassifier(n_estimators=10, max_depth=None,\n",
    "    min_samples_split=1, random_state=0)\n",
    "scores = cross_val_score(clf, X, y,cv=5)\n",
    "scores.mean()"
   ]
  },
  {
   "cell_type": "code",
   "execution_count": 19,
   "metadata": {
    "collapsed": false
   },
   "outputs": [],
   "source": [
    "X_train, X_test, y_train, y_test = train_test_split(X, y, test_size=0.33, random_state=42)"
   ]
  },
  {
   "cell_type": "code",
   "execution_count": 20,
   "metadata": {
    "collapsed": false
   },
   "outputs": [],
   "source": [
    "fitted = clf.fit(X_train,y_train)"
   ]
  },
  {
   "cell_type": "code",
   "execution_count": 21,
   "metadata": {
    "collapsed": true
   },
   "outputs": [],
   "source": [
    "from sklearn.metrics import confusion_matrix"
   ]
  },
  {
   "cell_type": "code",
   "execution_count": 22,
   "metadata": {
    "collapsed": false
   },
   "outputs": [
    {
     "data": {
      "text/plain": [
       "array([[11061,     0,     1],\n",
       "       [    0, 11088,    29],\n",
       "       [    1,    47, 11107]])"
      ]
     },
     "execution_count": 22,
     "metadata": {},
     "output_type": "execute_result"
    }
   ],
   "source": [
    "confusion_matrix(y_test,fitted.predict(X_test),labels=[0, 1, 2])"
   ]
  },
  {
   "cell_type": "code",
   "execution_count": 23,
   "metadata": {
    "collapsed": false
   },
   "outputs": [
    {
     "name": "stdout",
     "output_type": "stream",
     "text": [
      "<function confusion_matrix at 0x112df9668>\n"
     ]
    }
   ],
   "source": [
    "print confusion_matrix"
   ]
  },
  {
   "cell_type": "code",
   "execution_count": null,
   "metadata": {
    "collapsed": true
   },
   "outputs": [],
   "source": []
  }
 ],
 "metadata": {
  "kernelspec": {
   "display_name": "Python 2",
   "language": "python",
   "name": "python2"
  },
  "language_info": {
   "codemirror_mode": {
    "name": "ipython",
    "version": 2
   },
   "file_extension": ".py",
   "mimetype": "text/x-python",
   "name": "python",
   "nbconvert_exporter": "python",
   "pygments_lexer": "ipython2",
   "version": "2.7.11"
  }
 },
 "nbformat": 4,
 "nbformat_minor": 0
}
